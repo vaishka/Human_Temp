{
 "cells": [
  {
   "cell_type": "markdown",
   "metadata": {},
   "source": [
    "# What is the True Normal Human Body Temperature? \n",
    "\n",
    "#### Background\n",
    "\n",
    "The mean normal body temperature was held to be 37$^{\\circ}$C or 98.6$^{\\circ}$F for more than 120 years since it was first conceptualized and reported by Carl Wunderlich in a famous 1868 book. But, is this value statistically correct?"
   ]
  },
  {
   "cell_type": "markdown",
   "metadata": {},
   "source": [
    "<h3>Exercises</h3>\n",
    "\n",
    "<p>In this exercise, you will analyze a dataset of human body temperatures and employ the concepts of hypothesis testing, confidence intervals, and statistical significance.</p>\n",
    "\n",
    "<p>Answer the following questions <b>in this notebook below and submit to your Github account</b>.</p> \n",
    "\n",
    "<ol>\n",
    "<li>  Is the distribution of body temperatures normal? \n",
    "    <ul>\n",
    "    <li> Although this is not a requirement for the Central Limit Theorem to hold (read the introduction on Wikipedia's page about the CLT carefully: https://en.wikipedia.org/wiki/Central_limit_theorem), it gives us some peace of mind that the population may also be normally distributed if we assume that this sample is representative of the population.\n",
    "    <li> Think about the way you're going to check for the normality of the distribution. Graphical methods are usually used first, but there are also other ways: https://en.wikipedia.org/wiki/Normality_test\n",
    "    </ul>\n",
    "<li>  Is the sample size large? Are the observations independent?\n",
    "    <ul>\n",
    "    <li> Remember that this is a condition for the Central Limit Theorem, and hence the statistical tests we are using, to apply.\n",
    "    </ul>\n",
    "<li>  Is the true population mean really 98.6 degrees F?\n",
    "    <ul>\n",
    "    <li> First, try a bootstrap hypothesis test.\n",
    "    <li> Now, let's try frequentist statistical testing. Would you use a one-sample or two-sample test? Why?\n",
    "    <li> In this situation, is it appropriate to use the $t$ or $z$ statistic? \n",
    "    <li> Now try using the other test. How is the result be different? Why?\n",
    "    </ul>\n",
    "<li>  Draw a small sample of size 10 from the data and repeat both frequentist tests. \n",
    "    <ul>\n",
    "    <li> Which one is the correct one to use? \n",
    "    <li> What do you notice? What does this tell you about the difference in application of the $t$ and $z$ statistic?\n",
    "    </ul>\n",
    "<li>  At what temperature should we consider someone's temperature to be \"abnormal\"?\n",
    "    <ul>\n",
    "    <li> As in the previous example, try calculating everything using the boostrap approach, as well as the frequentist approach.\n",
    "    <li> Start by computing the margin of error and confidence interval. When calculating the confidence interval, keep in mind that you should use the appropriate formula for one draw, and not N draws.\n",
    "    </ul>\n",
    "<li>  Is there a significant difference between males and females in normal temperature?\n",
    "    <ul>\n",
    "    <li> What testing approach did you use and why?\n",
    "    <li> Write a story with your conclusion in the context of the original problem.\n",
    "    </ul>\n",
    "</ol>\n",
    "\n",
    "You can include written notes in notebook cells using Markdown: \n",
    "   - In the control panel at the top, choose Cell > Cell Type > Markdown\n",
    "   - Markdown syntax: http://nestacms.com/docs/creating-content/markdown-cheat-sheet\n",
    "\n",
    "#### Resources\n",
    "\n",
    "+ Information and data sources: http://www.amstat.org/publications/jse/datasets/normtemp.txt, http://www.amstat.org/publications/jse/jse_data_archive.htm\n",
    "+ Markdown syntax: http://nestacms.com/docs/creating-content/markdown-cheat-sheet\n",
    "\n",
    "****"
   ]
  },
  {
   "cell_type": "code",
   "execution_count": 36,
   "metadata": {},
   "outputs": [],
   "source": [
    "import pandas as pd\n",
    "import numpy as np\n",
    "from matplotlib import pyplot\n",
    "from scipy.stats import shapiro\n",
    "import scipy.stats as stats\n",
    "import random\n",
    "\n",
    "df = pd.read_csv('data/human_body_temperature.csv')"
   ]
  },
  {
   "cell_type": "markdown",
   "metadata": {},
   "source": [
    "1.Is the distribution of body temperatures normal?"
   ]
  },
  {
   "cell_type": "code",
   "execution_count": 15,
   "metadata": {},
   "outputs": [
    {
     "data": {
      "image/png": "[encoded data removed]",
      "text/plain": [
       "<Figure size 432x288 with 1 Axes>"
      ]
     },
     "metadata": {
      "needs_background": "light"
     },
     "output_type": "display_data"
    },
    {
     "name": "stdout",
     "output_type": "stream",
     "text": [
      "Statistics=0.987, p=0.233\n",
      "Sample seems to be drawn from Normal Distribution\n"
     ]
    }
   ],
   "source": [
    "# histogram plot\n",
    "pyplot.hist(df.temperature)\n",
    "pyplot.show()\n",
    "\n",
    "#Plot shows-though we see a roughly normal curve, it is not a strong bell shaped curve. So we will further investigate\n",
    "\n",
    "# normality test- Shapiro-Wilk Test\n",
    "stat, p = shapiro(df.temperature)\n",
    "print('Statistics=%.3f, p=%.3f' % (stat, p))\n",
    "# check the val\n",
    "if p > 0.05:\n",
    "    print('Sample seems to be drawn from Normal Distribution')\n",
    "else:\n",
    "    print('Sample does not seem to be drawn from Normal Distribution')"
   ]
  },
  {
   "cell_type": "markdown",
   "metadata": {},
   "source": []
  },
  {
   "cell_type": "code",
   "execution_count": 12,
   "metadata": {},
   "outputs": [
    {
     "name": "stdout",
     "output_type": "stream",
     "text": [
      "Sample Size (130, 3)\n",
      "     temperature gender  heart_rate\n",
      "42          96.9      M        74.0\n",
      "61          98.4      M        84.0\n",
      "119         98.4      F        74.0\n",
      "44          99.0      F        79.0\n",
      "128         97.9      M        72.0\n"
     ]
    }
   ],
   "source": [
    "# 2.Is the sample size large? Are the observations independent?\n",
    "print('Sample Size',  df.shape)\n",
    "print(df.sample(5))\n",
    "#it looks like the sample size is large and the observations are independent"
   ]
  },
  {
   "cell_type": "markdown",
   "metadata": {},
   "source": [
    "3.Is the true population mean really 98.6 degrees F?\n",
    "First, try a bootstrap hypothesis test.\n",
    "Now, let's try frequentist statistical testing. Would you use a one-sample or two-sample test? Why?\n",
    "In this situation, is it appropriate to use the  𝑡  or  𝑧  statistic?\n",
    "Now try using the other test. How is the result be different? Why?"
   ]
  },
  {
   "cell_type": "markdown",
   "metadata": {},
   "source": [
    "Step 1: State null and alternative hypotheses: \n",
    "        H0: mean = 98.6\n",
    "        Ha: mean <> 98.6\n",
    "Step 2: Set the significance level . We’ll choose 5%.\n",
    "Step 3: Choose a test statistic. We wish to estimate the mean temp, and therefore we’ll use the\n",
    "sample average.\n",
    "Step 4: Find the observed value of the test statistic:\n",
    "\n",
    "One-sample test caould be used here. This is because we are checking a sample of temeratures for a mean value.\n",
    "Also our sample size 130 which is >30 that is sufficiently large enough to be using z statistic"
   ]
  },
  {
   "cell_type": "code",
   "execution_count": 20,
   "metadata": {},
   "outputs": [
    {
     "name": "stdout",
     "output_type": "stream",
     "text": [
      "Null Hypo Ho must be rejected. True Population Mean is not 98.6 F\n"
     ]
    }
   ],
   "source": [
    "#first calculate the sample statistics and then t val and z val\n",
    "sample_mean=df.temperature.mean()\n",
    "sample_std=df.temperature.std()\n",
    "sample_median=df.temperature.median()\n",
    "sample_size=df.temperature.size\n",
    "\n",
    "signal=sample_mean-98.6\n",
    "noise=sample_std/(sample_size**0.5)\n",
    "t_val=signal/noise       # n=130, df=129\n",
    "\n",
    "#next find the prob that true mean lies within t val std of true mean 98.6\n",
    "P_value=stats.norm.cdf(t_val) * 2 # two sided\n",
    "if P_value<0.05:\n",
    "    print('Null Hypo Ho must be rejected. True Population Mean is not 98.6 F')\n",
    "else:\n",
    "    print('Null Hypo Ho is True.  True Population mean is 98.6 F.')\n"
   ]
  },
  {
   "cell_type": "code",
   "execution_count": 34,
   "metadata": {},
   "outputs": [
    {
     "name": "stdout",
     "output_type": "stream",
     "text": [
      "True mean range with z-statistic and with 95% confindence level 98.12  F to  98.38  F.\n",
      "True mean range with z-statistic and with 95% confindence level 98.12  F to  98.38  F.\n"
     ]
    }
   ],
   "source": [
    "# next compare Z -statistic and t-statistic\n",
    "\n",
    "#Calculate critical t-value, we use 129 since n-1 and two tailed so 0.025 : with n=130, p<0.05\n",
    "\n",
    "crit_t=stats.t.ppf(1-0.025, 129)\n",
    "cal_t=crit_t*sample_std/np.sqrt(130)\n",
    "#with +- \n",
    "mean_t1=sample_mean+cal_t\n",
    "mean_t2=sample_mean-cal_t\n",
    "print(\"True mean range with z-statistic and with 95% confindence level\" , round(mean_t2,2), \" F to \", round(mean_t1,2), \" F.\")\n",
    "#Calculate critical z-value from z table\n",
    "# CI=95%, 2-tail= CI=97.5%, 1-tail\n",
    "crit_z=stats.norm.ppf(0.975)\n",
    "cal_z=sample_std*crit_z/np.sqrt(130)\n",
    "# Range of true mean using z-statistic with 95% confidence level\n",
    "mean_z1=sample_mean+cal_z\n",
    "mean_z2=sample_mean-cal_z\n",
    "\n",
    "print(\"True mean range with z-statistic and with 95% confindence level\" , round(mean_z2,2), \" F to \", round(mean_z1,2), \" F.\")"
   ]
  },
  {
   "cell_type": "markdown",
   "metadata": {},
   "source": [
    "4. Draw a small sample of size 10 from the data and repeat both frequentist tests.\n",
    "Which one is the correct one to use?\n",
    "What do you notice? What does this tell you about the difference in application of the  𝑡  and  𝑧  statistic?"
   ]
  },
  {
   "cell_type": "markdown",
   "metadata": {},
   "source": [
    "Since the sample size is 10, it is best to use t- statistic"
   ]
  },
  {
   "cell_type": "code",
   "execution_count": 53,
   "metadata": {},
   "outputs": [
    {
     "name": "stdout",
     "output_type": "stream",
     "text": [
      "True mean range with z-statistic and with 95% confindence level 97.8  F to  98.48  F.\n",
      "True mean range with z-statistic and with 95% confindence level 97.84  F to  98.44  F.\n"
     ]
    }
   ],
   "source": [
    "small_sample = df.sample(10)\n",
    "#first calculate the sample statistics and then t val and z val\n",
    "sample_mean=small_sample.temperature.mean()\n",
    "sample_std=small_sample.temperature.std()\n",
    "sample_median=small_sample.temperature.median()\n",
    "sample_size=small_sample.temperature.size\n",
    "# next compare Z -statistic and t-statistic\n",
    "\n",
    "#Calculate critical t-value, we use 9 since n-1 and two tailed so 0.025 : with n=10, p<0.05\n",
    "\n",
    "crit_t=stats.t.ppf(1-0.025, 9)\n",
    "cal_t=crit_t*sample_std/np.sqrt(10)\n",
    "#with +- \n",
    "mean_t1=sample_mean+cal_t\n",
    "mean_t2=sample_mean-cal_t\n",
    "print(\"True mean range with z-statistic and with 95% confindence level\" , round(mean_t2,2), \" F to \", round(mean_t1,2), \" F.\")\n",
    "#Calculate critical z-value from z table\n",
    "# CI=95%, 2-tail= CI=97.5%, 1-tail\n",
    "crit_z=stats.norm.ppf(0.975)\n",
    "cal_z=sample_std*crit_z/np.sqrt(10)\n",
    "# Range of true mean using z-statistic with 95% confidence level\n",
    "mean_z1=sample_mean+cal_z\n",
    "mean_z2=sample_mean-cal_z\n",
    "\n",
    "print(\"True mean range with z-statistic and with 95% confindence level\" , round(mean_z2,2), \" F to \", round(mean_z1,2), \" F.\")"
   ]
  },
  {
   "cell_type": "markdown",
   "metadata": {},
   "source": [
    "when n>30 the t and z statistic will perform similarly. but in the second option when n=10, we see different results for t and z statistics"
   ]
  },
  {
   "cell_type": "markdown",
   "metadata": {},
   "source": [
    "5.At what temperature should we consider someone's temperature to be \"abnormal\"?\n",
    "As in the previous example, try calculating everything using the boostrap approach, as well as the frequentist approach.\n",
    "Start by computing the margin of error and confidence interval. When calculating the confidence interval, keep in mind that you should use the appropriate formula for one draw, and not N draws."
   ]
  },
  {
   "cell_type": "code",
   "execution_count": 56,
   "metadata": {},
   "outputs": [
    {
     "name": "stdout",
     "output_type": "stream",
     "text": [
      "Normal human temperature range is  97.84  F to  98.44  F. Anything outside this range is abnormal\n"
     ]
    }
   ],
   "source": [
    "mean=df.temperature.mean()\n",
    "mar_error_z =sample_std*crit_z/np.sqrt(130)\n",
    "cof_int = mean + np.array([-1, 1]) * mar_error_z\n",
    "print(\"Normal human temperature range is \", round(mean_z2,2), \" F to \", round(mean_z1,2), \" F. Anything outside this range is abnormal\")"
   ]
  },
  {
   "cell_type": "markdown",
   "metadata": {},
   "source": [
    "6.Is there a significant difference between males and females in normal temperature?\n",
    "What testing approach did you use and why?\n",
    "Write a story with your conclusion in the context of the original problem.\n"
   ]
  },
  {
   "cell_type": "markdown",
   "metadata": {},
   "source": [
    "Step 1: State null and alternative hypotheses: \n",
    "        H0: mean of male temps = mean of female temps\n",
    "        Ha: mean of male temps <> mean of female temps\n",
    "Step 2: Set the significance level . We’ll choose 5%.\n",
    "Step 3: Choose a test statistic. We wish to estimate the mean temp, and therefore we’ll use the\n",
    "sample average.\n",
    "Step 4: Find the observed value of the test statistic:"
   ]
  },
  {
   "cell_type": "code",
   "execution_count": 60,
   "metadata": {},
   "outputs": [
    {
     "name": "stdout",
     "output_type": "stream",
     "text": [
      "Null Hypo Ho is rejected -that mean of female and male temperatures is the not same\n",
      "We can safely conclude that male and female body temperatures are significantly different with 95% confidence.\n"
     ]
    }
   ],
   "source": [
    "#male temp\n",
    "males=df[df.gender=='M']\n",
    "m_mean_temp=males.temperature.mean()\n",
    "m_std_temp=males.temperature.std()\n",
    "#female temp\n",
    "females=df[df.gender=='F']\n",
    "f_mean_temp=females.temperature.mean()\n",
    "f_std_temp=females.temperature.std()\n",
    "# diff and std err in temperatures\n",
    "mean_diff=f_mean_temp - m_mean_temp\n",
    "mean_diff\n",
    "SE=((m_std_temp**2)/65 + (f_std_temp**2)/65)**0.5\n",
    "## Degrees of Freedom Calculation\n",
    "F1=f_std_temp**2/65\n",
    "M1=m_std_temp**2/65\n",
    "\n",
    "DF=((F1+M1)**2)/(((F1**2)/64)+((M1**2)/64))\n",
    "DF\n",
    "## Use 0.05 Significance level in two sample t-test\n",
    "t_val=((f_mean_temp-m_mean_temp)-0)/SE\n",
    "t_val\n",
    "p_val = stats.t.sf(np.abs(2.29), 128)*2  # two-sided pvalue = Prob(abs(t)>tt)\n",
    "p_val\n",
    "if p_val<0.05:\n",
    "    print('Null Hypo Ho is rejected -that mean of female and male temperatures is the not same')\n",
    "    print('We can safely conclude that male and female body temperatures are significantly different with 95% confidence.')\n",
    "else: \n",
    "    print('Null Hypo Ho is accepted -that mean of female and male temperatures is same')\n"
   ]
  },
  {
   "cell_type": "code",
   "execution_count": null,
   "metadata": {},
   "outputs": [],
   "source": []
  }
 ],
 "metadata": {
  "kernelspec": {
   "display_name": "Python 3",
   "language": "python",
   "name": "python3"
  },
  "language_info": {
   "codemirror_mode": {
    "name": "ipython",
    "version": 3
   },
   "file_extension": ".py",
   "mimetype": "text/x-python",
   "name": "python",
   "nbconvert_exporter": "python",
   "pygments_lexer": "ipython3",
   "version": "3.7.1"
  }
 },
 "nbformat": 4,
 "nbformat_minor": 1
}
